{
 "cells": [
  {
   "cell_type": "code",
   "execution_count": 2,
   "metadata": {},
   "outputs": [],
   "source": []
  },
  {
   "cell_type": "code",
   "execution_count": null,
   "metadata": {},
   "outputs": [],
   "source": []
  },
  {
   "cell_type": "code",
   "execution_count": 5,
   "metadata": {},
   "outputs": [
    {
     "name": "stdout",
     "output_type": "stream",
     "text": [
      "1\n",
      "2\n",
      "3\n"
     ]
    }
   ],
   "source": [
    "# A simple Python program for traversal of a linked list \n",
    "\n",
    "# Node class \n",
    "class Node: \n",
    "\n",
    "\t# Function to initialise the node object \n",
    "\tdef __init__(self, data): \n",
    "\t\tself.data = data # Assign data \n",
    "\t\tself.next = None # Initialize next as null \n",
    "\n",
    "\n",
    "# Linked List class contains a Node object \n",
    "class LinkedList: \n",
    "\n",
    "\t# Function to initialize head \n",
    "\tdef __init__(self): \n",
    "\t\tself.head = None\n",
    "\n",
    "\t# This function prints contents of linked list \n",
    "\t# starting from head \n",
    "\tdef printList(self): \n",
    "\t\ttemp = self.head \n",
    "\t\twhile (temp): \n",
    "\t\t\tprint (temp.data) \n",
    "\t\t\ttemp = temp.next\n",
    "\n",
    "\n",
    "# Code execution starts here \n",
    "if __name__=='__main__': \n",
    "\n",
    "\t# Start with the empty list \n",
    "\tllist = LinkedList() \n",
    "\n",
    "\tllist.head = Node(1) \n",
    "\tsecond = Node(2) \n",
    "\tthird = Node(3) \n",
    "\n",
    "\tllist.head.next = second; # Link first node with second \n",
    "\tsecond.next = third; # Link second node with the third node \n",
    "\n",
    "\tllist.printList() \n"
   ]
  },
  {
   "cell_type": "code",
   "execution_count": null,
   "metadata": {},
   "outputs": [],
   "source": []
  }
 ],
 "metadata": {
  "kernelspec": {
   "display_name": "Python 3",
   "language": "python",
   "name": "python3"
  },
  "language_info": {
   "codemirror_mode": {
    "name": "ipython",
    "version": 3
   },
   "file_extension": ".py",
   "mimetype": "text/x-python",
   "name": "python",
   "nbconvert_exporter": "python",
   "pygments_lexer": "ipython3",
   "version": "3.8.5"
  }
 },
 "nbformat": 4,
 "nbformat_minor": 4
}

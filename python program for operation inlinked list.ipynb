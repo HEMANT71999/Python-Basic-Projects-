{
 "cells": [
  {
   "cell_type": "code",
   "execution_count": 2,
   "metadata": {},
   "outputs": [],
   "source": []
  },
  {
   "cell_type": "code",
   "execution_count": null,
   "metadata": {},
   "outputs": [],
   "source": []
  },
  {
   "cell_type": "code",
   "execution_count": 5,
   "metadata": {},
   "outputs": [
    {
     "name": "stdout",
     "output_type": "stream",
     "text": [
      "1\n",
      "2\n",
      "3\n"
     ]
    }
   ],
   "source": [
    "# A simple Python program for traversal of a linked list \n",
    "\n",
    "# Node class \n",
    "class Node: \n",
    "\n",
    "\t# Function to initialise the node object \n",
    "\tdef __init__(self, data): \n",
    "\t\tself.data = data # Assign data \n",
    "\t\tself.next = None # Initialize next as null \n",
    "\n",
    "\n",
    "# Linked List class contains a Node object \n",
    "class LinkedList: \n",
    "\n",
    "\t# Function to initialize head \n",
    "\tdef __init__(self): \n",
    "\t\tself.head = None\n",
    "\n",
    "\t# This function prints contents of linked list \n",
    "\t# starting from head \n",
    "\tdef printList(self): \n",
    "\t\ttemp = self.head \n",
    "\t\twhile (temp): \n",
    "\t\t\tprint (temp.data) \n",
    "\t\t\ttemp = temp.next\n",
    "\n",
    "\n",
    "# Code execution starts here \n",
    "if __name__=='__main__': \n",
    "\n",
    "\t# Start with the empty list \n",
    "\tllist = LinkedList() \n",
    "\n",
    "\tllist.head = Node(1) \n",
    "\tsecond = Node(2) \n",
    "\tthird = Node(3) \n",
    "\n",
    "\tllist.head.next = second; # Link first node with second \n",
    "\tsecond.next = third; # Link second node with the third node \n",
    "\n",
    "\tllist.printList() \n"
   ]
  },
  {
   "cell_type": "markdown",
   "metadata": {},
   "source": [
    "#Inserting a new node in front\n"
   ]
  },
  {
   "cell_type": "code",
   "execution_count": 6,
   "metadata": {},
   "outputs": [],
   "source": [
    "def push(self,data):\n",
    "    new_node=Node(data)\n",
    "    new_node.next=self.head\n",
    "    self.head=new_node"
   ]
  },
  {
   "cell_type": "code",
   "execution_count": null,
   "metadata": {},
   "outputs": [],
   "source": [
    "# time complexity of push() ,o(1)"
   ]
  },
  {
   "cell_type": "markdown",
   "metadata": {},
   "source": [
    "# Inserts a new node after the given prev_node."
   ]
  },
  {
   "cell_type": "code",
   "execution_count": 14,
   "metadata": {},
   "outputs": [],
   "source": [
    "def insertAfter(self,prev_node,new_data):\n",
    "    if  prev_node is none:\n",
    "        print (\"the given previous node must be inlinkedlist.\")\n",
    "        return\n",
    "    new_node=Node(data)\n",
    "    new_node.nect=prev_node.next\n",
    "    prev_node.next=new_node"
   ]
  },
  {
   "cell_type": "code",
   "execution_count": null,
   "metadata": {},
   "outputs": [],
   "source": [
    "#Time complexity of insertAfter() is O(1) as it does constant amount of work."
   ]
  },
  {
   "cell_type": "markdown",
   "metadata": {},
   "source": [
    "# Appends a new node at the end."
   ]
  },
  {
   "cell_type": "code",
   "execution_count": 18,
   "metadata": {},
   "outputs": [],
   "source": [
    "def append(self,new_data):\n",
    "    new_node=node(data)\n",
    "    if self.head is None:\n",
    "        self.head=new_node\n",
    "        return\n",
    "    last = self.head\n",
    "    while(last.next):\n",
    "        last=last.next\n",
    "        last.next=newnode\n",
    "        "
   ]
  },
  {
   "cell_type": "code",
   "execution_count": 19,
   "metadata": {},
   "outputs": [],
   "source": [
    "#Time complexity of append is O(n) where n is the number of nodes in linked list. "
   ]
  },
  {
   "cell_type": "code",
   "execution_count": null,
   "metadata": {},
   "outputs": [],
   "source": []
  }
 ],
 "metadata": {
  "kernelspec": {
   "display_name": "Python 3",
   "language": "python",
   "name": "python3"
  },
  "language_info": {
   "codemirror_mode": {
    "name": "ipython",
    "version": 3
   },
   "file_extension": ".py",
   "mimetype": "text/x-python",
   "name": "python",
   "nbconvert_exporter": "python",
   "pygments_lexer": "ipython3",
   "version": "3.8.5"
  }
 },
 "nbformat": 4,
 "nbformat_minor": 4
}
